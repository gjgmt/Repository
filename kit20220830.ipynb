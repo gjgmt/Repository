{
  "nbformat": 4,
  "nbformat_minor": 0,
  "metadata": {
    "colab": {
      "provenance": [],
      "authorship_tag": "ABX9TyPyIp7egnh0aRRCn0rLNdpM",
      "include_colab_link": true
    },
    "kernelspec": {
      "name": "python3",
      "display_name": "Python 3"
    },
    "language_info": {
      "name": "python"
    },
    "gpuClass": "standard"
  },
  "cells": [
    {
      "cell_type": "markdown",
      "metadata": {
        "id": "view-in-github",
        "colab_type": "text"
      },
      "source": [
        "<a href=\"https://colab.research.google.com/github/gjgmt/Repository/blob/main/kit20220830.ipynb\" target=\"_parent\"><img src=\"https://colab.research.google.com/assets/colab-badge.svg\" alt=\"Open In Colab\"/></a>"
      ]
    },
    {
      "cell_type": "markdown",
      "source": [
        "20220830"
      ],
      "metadata": {
        "id": "2YEj3V13GrG0"
      }
    },
    {
      "cell_type": "code",
      "execution_count": 4,
      "metadata": {
        "id": "a4nO4ejFDcV_"
      },
      "outputs": [],
      "source": [
        "with open('/gdrive/My Drive/test.txt','w') as f:\n",
        "    f.writelines(\"Hello Google Colab\")\n",
        "    "
      ]
    }
  ]
}