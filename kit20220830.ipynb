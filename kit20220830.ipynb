{
  "nbformat": 4,
  "nbformat_minor": 0,
  "metadata": {
    "colab": {
      "provenance": [],
      "authorship_tag": "ABX9TyNYPvv1IiQ4Q2n7+qtkyYCX",
      "include_colab_link": true
    },
    "kernelspec": {
      "name": "python3",
      "display_name": "Python 3"
    },
    "language_info": {
      "name": "python"
    },
    "gpuClass": "standard"
  },
  "cells": [
    {
      "cell_type": "markdown",
      "metadata": {
        "id": "view-in-github",
        "colab_type": "text"
      },
      "source": [
        "<a href=\"https://colab.research.google.com/github/gjgmt/Repository/blob/main/kit20220830.ipynb\" target=\"_parent\"><img src=\"https://colab.research.google.com/assets/colab-badge.svg\" alt=\"Open In Colab\"/></a>"
      ]
    },
    {
      "cell_type": "markdown",
      "source": [
        "20220830"
      ],
      "metadata": {
        "id": "2YEj3V13GrG0"
      }
    },
    {
      "cell_type": "code",
      "execution_count": 5,
      "metadata": {
        "colab": {
          "base_uri": "https://localhost:8080/"
        },
        "id": "a4nO4ejFDcV_",
        "outputId": "f92c3049-e79a-4d2c-d4f7-525e9109307f"
      },
      "outputs": [
        {
          "output_type": "stream",
          "name": "stdout",
          "text": [
            "hello\n"
          ]
        }
      ],
      "source": [
        "with open('/gdrive/My Drive/test.txt','w') as f:\n",
        "    f.writelines(\"Hello Google Colab\")\n",
        "print(\"hello\")\n",
        "for i in range(3):\n",
        "    print(i)"
      ]
    }
  ]
}